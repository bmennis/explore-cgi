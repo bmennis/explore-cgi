{
 "cells": [
  {
   "cell_type": "markdown",
   "metadata": {},
   "source": [
    "### Ensemble trees for kaviar\n",
    "* duplicate positons are removed\n",
    "* focus on cgi vs both, limit by ahmad good regions\n",
    "* focus on high freq vars?"
   ]
  },
  {
   "cell_type": "code",
   "execution_count": 1,
   "metadata": {
    "collapsed": false
   },
   "outputs": [],
   "source": [
    "import pandas as pd\n",
    "import numpy as np\n",
    "from sklearn.decomposition import PCA\n",
    "from sklearn.discriminant_analysis import LinearDiscriminantAnalysis\n",
    "from sklearn.preprocessing import StandardScaler\n",
    "from sklearn.ensemble import RandomForestClassifier\n",
    "from sklearn import svm\n",
    "from sklearn.model_selection import cross_val_score\n",
    "from matplotlib import pyplot as plt\n",
    "from sklearn import tree\n",
    "from sklearn.ensemble import ExtraTreesClassifier\n",
    "%matplotlib inline\n",
    "\n",
    "def write_feature_importance(\n",
    "    X, indices, cols, importances, std,\n",
    "):\n",
    "    for f in range(X.shape[1]):\n",
    "        ls = (\n",
    "            cols[indices[f]],\n",
    "            importances[indices[f]],\n",
    "            std[indices[f]],\n",
    "        )\n",
    "        print(\"%s\\t%f\\t%f\" % ls)"
   ]
  },
  {
   "cell_type": "code",
   "execution_count": 2,
   "metadata": {
    "collapsed": false
   },
   "outputs": [
    {
     "name": "stderr",
     "output_type": "stream",
     "text": [
      "/opt/conda/lib/python3.4/site-packages/IPython/core/interactiveshell.py:2717: DtypeWarning: Columns (3) have mixed types. Specify dtype option on import or set low_memory=False.\n",
      "  interactivity=interactivity, compiler=compiler, result=result)\n"
     ]
    }
   ],
   "source": [
    "kaviar_mat_file = '/mnt/isilon/cbmi/variome/perry/brian/explore-cgi/data/interim/kaviar.mat'\n",
    "dat = pd.read_csv(kaviar_mat_file, sep='\\t')"
   ]
  },
  {
   "cell_type": "code",
   "execution_count": 3,
   "metadata": {
    "collapsed": true
   },
   "outputs": [],
   "source": [
    "# limit to not rare\n",
    "#dat = dat[dat.af<2**-14]\n",
    "features = [x for x in dat.columns if not x in ('kaviar_status', 'var_type', 'chrom', 'pos', 'ref', 'alt', 'af')]\n",
    "dat = dat.drop_duplicates(subset=['chrom', 'pos'])"
   ]
  },
  {
   "cell_type": "code",
   "execution_count": 4,
   "metadata": {
    "collapsed": false,
    "scrolled": true
   },
   "outputs": [
    {
     "name": "stderr",
     "output_type": "stream",
     "text": [
      "/opt/conda/lib/python3.4/site-packages/pandas/core/indexing.py:297: SettingWithCopyWarning: \n",
      "A value is trying to be set on a copy of a slice from a DataFrame.\n",
      "Try using .loc[row_indexer,col_indexer] = value instead\n",
      "\n",
      "See the caveats in the documentation: http://pandas.pydata.org/pandas-docs/stable/indexing.html#indexing-view-versus-copy\n",
      "  self.obj[key] = _infer_fill_value(value)\n",
      "/opt/conda/lib/python3.4/site-packages/pandas/core/indexing.py:477: SettingWithCopyWarning: \n",
      "A value is trying to be set on a copy of a slice from a DataFrame.\n",
      "Try using .loc[row_indexer,col_indexer] = value instead\n",
      "\n",
      "See the caveats in the documentation: http://pandas.pydata.org/pandas-docs/stable/indexing.html#indexing-view-versus-copy\n",
      "  self.obj[item] = s\n"
     ]
    },
    {
     "data": {
      "text/plain": [
       "y\n",
       "0    142095\n",
       "1    177058\n",
       "dtype: int64"
      ]
     },
     "execution_count": 4,
     "metadata": {},
     "output_type": "execute_result"
    }
   ],
   "source": [
    "dat_cgi = dat[((dat['ahmad_status'] == 1) | (dat['ahmad_status'] == 0)) & ((dat.kaviar_status=='cgi') | (dat.kaviar_status=='both'))]\n",
    "dat_cgi.loc[:, 'y'] = dat_cgi.apply(lambda row: 1 if row['kaviar_status'] == 'both' else 0, axis=1)\n",
    "dat_cgi.groupby('y').size()"
   ]
  },
  {
   "cell_type": "code",
   "execution_count": 5,
   "metadata": {
    "collapsed": false,
    "scrolled": true
   },
   "outputs": [
    {
     "name": "stderr",
     "output_type": "stream",
     "text": [
      "/opt/conda/lib/python3.4/site-packages/sklearn/utils/validation.py:429: DataConversionWarning: Data with input dtype int64 was converted to float64 by StandardScaler.\n",
      "  warnings.warn(msg, _DataConversionWarning)\n"
     ]
    },
    {
     "name": "stdout",
     "output_type": "stream",
     "text": [
      "Accuracy: 0.63 (+/- 0.01)\n"
     ]
    },
    {
     "data": {
      "text/plain": [
       "kaviar_status\n",
       "both    141900\n",
       "cgi     141900\n",
       "dtype: int64"
      ]
     },
     "execution_count": 5,
     "metadata": {},
     "output_type": "execute_result"
    }
   ],
   "source": [
    "#dat_cgi = dat[((dat['ahmad_status'] == 1) | (dat['ahmad_status'] == 0)) & ((dat.kaviar_status=='cgi') | (dat.kaviar_status=='both'))]\n",
    "#dat_cgi.loc[:, 'y'] = dat_cgi.apply(lambda row: 1 if row['kaviar_status'] == 'both' else 0, axis=1)\n",
    "\n",
    "pos_cgi = dat_cgi[dat_cgi.y==1].sample(141900)\n",
    "neg_cgi = dat_cgi[dat_cgi.y==0].sample(141900)\n",
    "dat_cgi = pd.concat([pos_cgi, neg_cgi])\n",
    "\n",
    "X = dat_cgi[features].values\n",
    "X = StandardScaler().fit_transform(X)\n",
    "y = dat_cgi['y'].values\n",
    "\n",
    "rfc = RandomForestClassifier(n_estimators=200)\n",
    "clf = svm.SVC(kernel='poly', C=1)\n",
    "clf_tree = tree.DecisionTreeClassifier(max_depth=2)\n",
    "scores = cross_val_score(rfc, X, y, cv=10)\n",
    "print(\"Accuracy: %0.2f (+/- %0.2f)\" % (scores.mean(), scores.std() * 2))\n",
    "\n",
    "dat_cgi.groupby('kaviar_status').size()"
   ]
  },
  {
   "cell_type": "code",
   "execution_count": 6,
   "metadata": {
    "collapsed": false
   },
   "outputs": [
    {
     "name": "stdout",
     "output_type": "stream",
     "text": [
      "AllRepeats_gt95percidentity_slop5\t0.185566\t0.174284\n",
      "rmsk\t0.173931\t0.170296\n",
      "1kg\t0.136593\t0.123463\n",
      "20120824_combined_mask\t0.126603\t0.127295\n",
      "AllRepeats_lt51bp_gt95identity_merged\t0.108822\t0.145348\n",
      "notinAllRepeats_gt95percidentity_slop5\t0.049088\t0.033847\n",
      "ahmad_status\t0.040571\t0.030480\n",
      "simpleRepeat\t0.031999\t0.044069\n",
      "notinrefseq_union_cds.sort\t0.028834\t0.027132\n",
      "human_g1k_v37_l100_gclt30orgt55_slop50\t0.022037\t0.017715\n",
      "human_g1k_v37_l100_gc30to55_slop50\t0.020261\t0.024953\n",
      "dgv.short\t0.018502\t0.004152\n",
      "dgv\t0.008903\t0.003915\n",
      "GRCh37GenomicSuperDup.sorted\t0.008308\t0.001846\n",
      "hg19_self_chain_split.sort\t0.006740\t0.001811\n",
      "hg19_self_chain_split_both\t0.006166\t0.002118\n",
      "lowmappabilityall\t0.005970\t0.010250\n",
      "siren_similarRegions_dist1\t0.005782\t0.009207\n",
      "notinsegdupall\t0.005133\t0.006219\n",
      "notinlowmappabilityall\t0.004367\t0.008522\n",
      "segdupall\t0.003592\t0.004521\n",
      "BadPromoters_gb-2013-14-5-r51-s1\t0.002139\t0.001139\n",
      "blackTerry\t0.000095\t0.000037\n",
      "hg19.blacklist\t0.000000\t0.000000\n"
     ]
    }
   ],
   "source": [
    "cols = features\n",
    "forest = ExtraTreesClassifier(n_estimators=250, random_state=0)\n",
    "forest.fit(X, y)\n",
    "importances = forest.feature_importances_\n",
    "std = np.std([tree.feature_importances_ for tree in forest.estimators_], axis=0)\n",
    "indices = np.argsort(importances)[::-1]\n",
    "write_feature_importance(\n",
    "    X, indices, cols, importances, std\n",
    ")"
   ]
  },
  {
   "cell_type": "code",
   "execution_count": 7,
   "metadata": {
    "collapsed": false
   },
   "outputs": [
    {
     "name": "stdout",
     "output_type": "stream",
     "text": [
      "[  2.25492629e-01   1.36837362e-01   1.23607210e-01   7.31799251e-02\n",
      "   6.33055482e-02   5.21172082e-02   4.72740610e-02   4.34027213e-02\n",
      "   4.29930228e-02   3.67048663e-02   3.35219027e-02   2.76114483e-02\n",
      "   2.55602326e-02   2.35901640e-02   1.30564695e-02   1.15042656e-02\n",
      "   8.84543094e-03   4.33300985e-03   2.90960709e-03   2.63653486e-03\n",
      "   1.17444783e-03   3.41933493e-04   3.44046136e-33   6.45349833e-36]\n"
     ]
    },
    {
     "name": "stderr",
     "output_type": "stream",
     "text": [
      "/opt/conda/lib/python3.4/site-packages/sklearn/discriminant_analysis.py:387: UserWarning: Variables are collinear.\n",
      "  warnings.warn(\"Variables are collinear.\")\n"
     ]
    },
    {
     "ename": "NameError",
     "evalue": "name 'kaviar_status' is not defined",
     "output_type": "error",
     "traceback": [
      "\u001b[0;31m---------------------------------------------------------------------------\u001b[0m",
      "\u001b[0;31mNameError\u001b[0m                                 Traceback (most recent call last)",
      "\u001b[0;32m<ipython-input-7-6671f8f861b0>\u001b[0m in \u001b[0;36m<module>\u001b[0;34m()\u001b[0m\n\u001b[1;32m     11\u001b[0m \u001b[0mlw\u001b[0m \u001b[0;34m=\u001b[0m \u001b[0;36m2\u001b[0m\u001b[0;34m\u001b[0m\u001b[0m\n\u001b[1;32m     12\u001b[0m \u001b[0;34m\u001b[0m\u001b[0m\n\u001b[0;32m---> 13\u001b[0;31m \u001b[0;32mfor\u001b[0m \u001b[0mcolor\u001b[0m\u001b[0;34m,\u001b[0m \u001b[0mi\u001b[0m\u001b[0;34m,\u001b[0m \u001b[0mstatus\u001b[0m \u001b[0;32min\u001b[0m \u001b[0mzip\u001b[0m\u001b[0;34m(\u001b[0m\u001b[0mcolors\u001b[0m\u001b[0;34m,\u001b[0m \u001b[0;34m[\u001b[0m\u001b[0;36m0\u001b[0m\u001b[0;34m,\u001b[0m \u001b[0;36m1\u001b[0m\u001b[0;34m]\u001b[0m\u001b[0;34m,\u001b[0m \u001b[0mkaviar_status\u001b[0m\u001b[0;34m)\u001b[0m\u001b[0;34m:\u001b[0m\u001b[0;34m\u001b[0m\u001b[0m\n\u001b[0m\u001b[1;32m     14\u001b[0m     plt.scatter(X_r[y == i, 0], X_r[y == i, 1], color=color, alpha=.8, lw=lw,\n\u001b[1;32m     15\u001b[0m                 label=target_name)\n",
      "\u001b[0;31mNameError\u001b[0m: name 'kaviar_status' is not defined"
     ]
    },
    {
     "data": {
      "text/plain": [
       "<matplotlib.figure.Figure at 0x7f753b16a7f0>"
      ]
     },
     "metadata": {},
     "output_type": "display_data"
    }
   ],
   "source": [
    "pca = PCA()\n",
    "X_r = pca.fit(X).transform(X)\n",
    "\n",
    "lda = LinearDiscriminantAnalysis()\n",
    "X_r2 = lda.fit(X, y).transform(X)\n",
    "\n",
    "print(pca.explained_variance_ratio_)\n",
    "\n",
    "plt.figure()\n",
    "colors = ['navy', 'darkorange']\n",
    "lw = 2\n",
    "\n",
    "for color, i, status in zip(colors, [0, 1], kaviar_status):\n",
    "    plt.scatter(X_r[y == i, 0], X_r[y == i, 1], color=color, alpha=.8, lw=lw,\n",
    "                label=target_name)\n",
    "plt.legend(loc='best', shadow=False, scatterpoints=1)\n",
    "plt.title('PCA of Kaviar dataset')\n",
    "\n",
    "plt.figure()\n",
    "for color, i, status in zip(colors, [0, 1], kaviar_status):\n",
    "    plt.scatter(X_r2[y == i, 0], X_r2[y == i, 1], alpha=.8, color=color,\n",
    "                label=target_name)\n",
    "plt.legend(loc='best', shadow=False, scatterpoints=1)\n",
    "plt.title('LDA of Kaviar dataset')\n",
    "\n",
    "plt.show()"
   ]
  },
  {
   "cell_type": "code",
   "execution_count": null,
   "metadata": {
    "collapsed": true
   },
   "outputs": [],
   "source": []
  }
 ],
 "metadata": {
  "kernelspec": {
   "display_name": "Python 3",
   "language": "python",
   "name": "python3"
  }
 },
 "nbformat": 4,
 "nbformat_minor": 2
}
