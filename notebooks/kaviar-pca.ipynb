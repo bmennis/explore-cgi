{
 "cells": [
  {
   "cell_type": "markdown",
   "metadata": {},
   "source": [
    "### PCA of kaviar\n",
    "* duplicate positons are not removed"
   ]
  },
  {
   "cell_type": "code",
   "execution_count": 2,
   "metadata": {
    "collapsed": true
   },
   "outputs": [],
   "source": [
    "import pandas as pd\n",
    "from sklearn.decomposition import PCA\n",
    "from sklearn.discriminant_analysis import LinearDiscriminantAnalysis\n",
    "from sklearn.preprocessing import StandardScaler\n",
    "from matplotlib import pyplot as plt\n",
    "%matplotlib inline"
   ]
  },
  {
   "cell_type": "code",
   "execution_count": 3,
   "metadata": {},
   "outputs": [
    {
     "name": "stderr",
     "output_type": "stream",
     "text": [
      "/Users/perry/miniconda3/envs/notebook/lib/python3.6/site-packages/IPython/core/interactiveshell.py:2698: DtypeWarning: Columns (2) have mixed types. Specify dtype option on import or set low_memory=False.\n",
      "  interactivity=interactivity, compiler=compiler, result=result)\n"
     ]
    }
   ],
   "source": [
    "kaviar_mat_file = '../data/interim/kaviar.mat'\n",
    "dat = pd.read_csv(kaviar_mat_file, sep='\\t')"
   ]
  },
  {
   "cell_type": "code",
   "execution_count": 4,
   "metadata": {
    "collapsed": true
   },
   "outputs": [],
   "source": [
    "features = [x for x in dat.columns if not x in ('kaviar_status', 'var_type', 'chrom', 'pos', 'ref', 'alt')]"
   ]
  },
  {
   "cell_type": "code",
   "execution_count": null,
   "metadata": {},
   "outputs": [
    {
     "name": "stderr",
     "output_type": "stream",
     "text": [
      "/Users/perry/miniconda3/envs/notebook/lib/python3.6/site-packages/sklearn/utils/validation.py:444: DataConversionWarning: Data with input dtype int64 was converted to float64 by StandardScaler.\n",
      "  warnings.warn(msg, DataConversionWarning)\n"
     ]
    },
    {
     "name": "stdout",
     "output_type": "stream",
     "text": [
      "here\n",
      "[ 0.75983796  0.17039874]\n"
     ]
    },
    {
     "data": {
      "text/plain": [
       "<matplotlib.collections.PathCollection at 0x10ff61cf8>"
      ]
     },
     "execution_count": 15,
     "metadata": {},
     "output_type": "execute_result"
    }
   ],
   "source": [
    "X = dat[features].values\n",
    "X = StandardScaler().fit_transform(X)\n",
    "colors = {'ill':'red',\n",
    "          'both':'green',\n",
    "          'cgi':'blue',\n",
    "          'none':'black'}\n",
    "status_colors = [colors[x] for x in dat['kaviar_status']]\n",
    "print('here')\n",
    "pca = PCA(n_components=2)\n",
    "p = pca.fit(X)\n",
    "print(p.explained_variance_ratio_)\n",
    "X_r = p.transform(X)\n",
    "\n",
    "plt.figure()\n",
    "#for x_y, status in zip(X_r, status):\n",
    "plt.scatter(X_r[:, 0], X_r[:, 1], alpha=.4, c=status_colors)"
   ]
  },
  {
   "cell_type": "code",
   "execution_count": 6,
   "metadata": {},
   "outputs": [
    {
     "data": {
      "text/html": [
       "<div>\n",
       "<style>\n",
       "    .dataframe thead tr:only-child th {\n",
       "        text-align: right;\n",
       "    }\n",
       "\n",
       "    .dataframe thead th {\n",
       "        text-align: left;\n",
       "    }\n",
       "\n",
       "    .dataframe tbody tr th {\n",
       "        vertical-align: top;\n",
       "    }\n",
       "</style>\n",
       "<table border=\"1\" class=\"dataframe\">\n",
       "  <thead>\n",
       "    <tr style=\"text-align: right;\">\n",
       "      <th></th>\n",
       "      <th>lowmappabilityall</th>\n",
       "      <th>notinlowmappabilityall</th>\n",
       "      <th>siren_similarRegions_dist1</th>\n",
       "      <th>segdupall</th>\n",
       "      <th>notinsegdupall</th>\n",
       "      <th>notinrefseq_union_cds.sort</th>\n",
       "      <th>BadPromoters_gb-2013-14-5-r51-s1</th>\n",
       "    </tr>\n",
       "  </thead>\n",
       "  <tbody>\n",
       "    <tr>\n",
       "      <th>0</th>\n",
       "      <td>1</td>\n",
       "      <td>0</td>\n",
       "      <td>1</td>\n",
       "      <td>1</td>\n",
       "      <td>0</td>\n",
       "      <td>1</td>\n",
       "      <td>0</td>\n",
       "    </tr>\n",
       "    <tr>\n",
       "      <th>1</th>\n",
       "      <td>1</td>\n",
       "      <td>0</td>\n",
       "      <td>1</td>\n",
       "      <td>1</td>\n",
       "      <td>0</td>\n",
       "      <td>1</td>\n",
       "      <td>0</td>\n",
       "    </tr>\n",
       "    <tr>\n",
       "      <th>2</th>\n",
       "      <td>1</td>\n",
       "      <td>0</td>\n",
       "      <td>1</td>\n",
       "      <td>1</td>\n",
       "      <td>0</td>\n",
       "      <td>1</td>\n",
       "      <td>0</td>\n",
       "    </tr>\n",
       "    <tr>\n",
       "      <th>3</th>\n",
       "      <td>1</td>\n",
       "      <td>0</td>\n",
       "      <td>1</td>\n",
       "      <td>1</td>\n",
       "      <td>0</td>\n",
       "      <td>1</td>\n",
       "      <td>0</td>\n",
       "    </tr>\n",
       "    <tr>\n",
       "      <th>4</th>\n",
       "      <td>1</td>\n",
       "      <td>0</td>\n",
       "      <td>1</td>\n",
       "      <td>1</td>\n",
       "      <td>0</td>\n",
       "      <td>1</td>\n",
       "      <td>0</td>\n",
       "    </tr>\n",
       "  </tbody>\n",
       "</table>\n",
       "</div>"
      ],
      "text/plain": [
       "   lowmappabilityall  notinlowmappabilityall  siren_similarRegions_dist1  \\\n",
       "0                  1                       0                           1   \n",
       "1                  1                       0                           1   \n",
       "2                  1                       0                           1   \n",
       "3                  1                       0                           1   \n",
       "4                  1                       0                           1   \n",
       "\n",
       "   segdupall  notinsegdupall  notinrefseq_union_cds.sort  \\\n",
       "0          1               0                           1   \n",
       "1          1               0                           1   \n",
       "2          1               0                           1   \n",
       "3          1               0                           1   \n",
       "4          1               0                           1   \n",
       "\n",
       "   BadPromoters_gb-2013-14-5-r51-s1  \n",
       "0                                 0  \n",
       "1                                 0  \n",
       "2                                 0  \n",
       "3                                 0  \n",
       "4                                 0  "
      ]
     },
     "execution_count": 6,
     "metadata": {},
     "output_type": "execute_result"
    }
   ],
   "source": [
    "dat[features].head()"
   ]
  },
  {
   "cell_type": "code",
   "execution_count": 14,
   "metadata": {},
   "outputs": [
    {
     "name": "stdout",
     "output_type": "stream",
     "text": [
      "here\n",
      "[[ 0.15549171]\n",
      " [ 0.15549171]\n",
      " [ 1.47903619]\n",
      " [ 1.47903619]\n",
      " [ 1.47903619]]\n"
     ]
    },
    {
     "ename": "IndexError",
     "evalue": "index 1 is out of bounds for axis 1 with size 1",
     "output_type": "error",
     "traceback": [
      "\u001b[0;31m---------------------------------------------------------------------------\u001b[0m",
      "\u001b[0;31mIndexError\u001b[0m                                Traceback (most recent call last)",
      "\u001b[0;32m<ipython-input-14-fae5ac527e1e>\u001b[0m in \u001b[0;36m<module>\u001b[0;34m()\u001b[0m\n\u001b[1;32m     13\u001b[0m \u001b[0mplt\u001b[0m\u001b[0;34m.\u001b[0m\u001b[0mfigure\u001b[0m\u001b[0;34m(\u001b[0m\u001b[0;34m)\u001b[0m\u001b[0;34m\u001b[0m\u001b[0m\n\u001b[1;32m     14\u001b[0m \u001b[0;31m#for x_y, status in zip(X_r, status):\u001b[0m\u001b[0;34m\u001b[0m\u001b[0;34m\u001b[0m\u001b[0m\n\u001b[0;32m---> 15\u001b[0;31m \u001b[0mplt\u001b[0m\u001b[0;34m.\u001b[0m\u001b[0mscatter\u001b[0m\u001b[0;34m(\u001b[0m\u001b[0mX_r\u001b[0m\u001b[0;34m[\u001b[0m\u001b[0;34m:\u001b[0m\u001b[0;34m,\u001b[0m \u001b[0;36m0\u001b[0m\u001b[0;34m]\u001b[0m\u001b[0;34m,\u001b[0m \u001b[0mX_r\u001b[0m\u001b[0;34m[\u001b[0m\u001b[0;34m:\u001b[0m\u001b[0;34m,\u001b[0m \u001b[0;36m1\u001b[0m\u001b[0;34m]\u001b[0m\u001b[0;34m,\u001b[0m \u001b[0malpha\u001b[0m\u001b[0;34m=\u001b[0m\u001b[0;36m.4\u001b[0m\u001b[0;34m,\u001b[0m \u001b[0mc\u001b[0m\u001b[0;34m=\u001b[0m\u001b[0mstatus_colors\u001b[0m\u001b[0;34m)\u001b[0m\u001b[0;34m\u001b[0m\u001b[0m\n\u001b[0m",
      "\u001b[0;31mIndexError\u001b[0m: index 1 is out of bounds for axis 1 with size 1"
     ]
    },
    {
     "data": {
      "text/plain": [
       "<matplotlib.figure.Figure at 0x110f6d160>"
      ]
     },
     "metadata": {},
     "output_type": "display_data"
    }
   ],
   "source": [
    "dat_cgi = dat[(dat.kaviar_status=='cgi') | (dat.kaviar_status=='both')]\n",
    "X = dat_cgi[features].values\n",
    "X = StandardScaler().fit_transform(X)\n",
    "y = dat_cgi['kaviar_status'].values\n",
    "colors = {'ill':'red',\n",
    "          'both':'green',\n",
    "          'cgi':'blue',\n",
    "          'none':'black'}\n",
    "status_colors = [colors[x] for x in dat_cgi['kaviar_status']]\n",
    "print('here')\n",
    "lda = LinearDiscriminantAnalysis(n_components=3)\n",
    "X_r = lda.fit_transform(X, y)\n",
    "print(X_r[0:5])\n",
    "plt.figure()\n",
    "#for x_y, status in zip(X_r, status):\n",
    "plt.scatter(X_r[:, 0], X_r[:, 1], alpha=.4, c=status_colors)"
   ]
  },
  {
   "cell_type": "code",
   "execution_count": 9,
   "metadata": {},
   "outputs": [
    {
     "name": "stdout",
     "output_type": "stream",
     "text": [
      "[ 0.74838216  0.16995372]\n"
     ]
    },
    {
     "data": {
      "text/plain": [
       "<matplotlib.collections.PathCollection at 0x10ff61d30>"
      ]
     },
     "execution_count": 9,
     "metadata": {},
     "output_type": "execute_result"
    },
    {
     "data": {
      "image/png": "[encoded data removed]",
      "text/plain": [
       "<matplotlib.figure.Figure at 0x10ff61828>"
      ]
     },
     "metadata": {},
     "output_type": "display_data"
    }
   ],
   "source": [
    "dat_ill = dat[(dat.kaviar_status=='ill') | (dat.kaviar_status=='both')]\n",
    "X = dat_ill[features].values\n",
    "colors = {'ill':'red',\n",
    "          'both':'green',\n",
    "          'cgi':'blue',\n",
    "          'none':'black'}\n",
    "status_colors = [colors[x] for x in dat_ill['kaviar_status']]\n",
    "pca = PCA(n_components=2)\n",
    "p = pca.fit(X)\n",
    "print(p.explained_variance_ratio_)\n",
    "X_r = p.transform(X)\n",
    "\n",
    "plt.figure()\n",
    "#for x_y, status in zip(X_r, status):\n",
    "plt.scatter(X_r[:, 0], X_r[:, 1], alpha=.4, c=status_colors)"
   ]
  },
  {
   "cell_type": "code",
   "execution_count": 6,
   "metadata": {},
   "outputs": [
    {
     "name": "stderr",
     "output_type": "stream",
     "text": [
      "/Users/perry/miniconda3/envs/notebook/lib/python3.6/site-packages/sklearn/utils/validation.py:444: DataConversionWarning: Data with input dtype int64 was converted to float64 by StandardScaler.\n",
      "  warnings.warn(msg, DataConversionWarning)\n"
     ]
    },
    {
     "name": "stdout",
     "output_type": "stream",
     "text": [
      "[ 0.54144775  0.15265567]\n"
     ]
    },
    {
     "data": {
      "text/plain": [
       "<matplotlib.collections.PathCollection at 0x114f99f98>"
      ]
     },
     "execution_count": 6,
     "metadata": {},
     "output_type": "execute_result"
    },
    {
     "data": {
      "image/png": "[encoded data removed]",
      "text/plain": [
       "<matplotlib.figure.Figure at 0x115925438>"
      ]
     },
     "metadata": {},
     "output_type": "display_data"
    }
   ],
   "source": [
    "dat_cgi = dat[(dat.kaviar_status=='cgi') | (dat.kaviar_status=='both')]\n",
    "X = dat_cgi[features].values\n",
    "X = StandardScaler().fit_transform(X)\n",
    "colors = {'ill':'red',\n",
    "          'both':'green',\n",
    "          'cgi':'blue',\n",
    "          'none':'black'}\n",
    "status_colors = [colors[x] for x in dat_cgi['kaviar_status']]\n",
    "pca = PCA(n_components=2)\n",
    "p = pca.fit(X)\n",
    "print(p.explained_variance_ratio_)\n",
    "X_r = p.transform(X)\n",
    "\n",
    "plt.figure()\n",
    "#for x_y, status in zip(X_r, status):\n",
    "plt.scatter(X_r[:, 0], X_r[:, 1], alpha=.4, c=status_colors)"
   ]
  },
  {
   "cell_type": "code",
   "execution_count": null,
   "metadata": {
    "collapsed": true
   },
   "outputs": [],
   "source": []
  }
 ],
 "metadata": {
  "kernelspec": {
   "display_name": "Python 3",
   "language": "python",
   "name": "python3"
  },
  "language_info": {
   "codemirror_mode": {
    "name": "ipython",
    "version": 3
   },
   "file_extension": ".py",
   "mimetype": "text/x-python",
   "name": "python",
   "nbconvert_exporter": "python",
   "pygments_lexer": "ipython3",
   "version": "3.6.2"
  }
 },
 "nbformat": 4,
 "nbformat_minor": 2
}
